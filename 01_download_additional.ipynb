{
 "cells": [
  {
   "cell_type": "markdown",
   "metadata": {},
   "source": [
    "## B. Other sources of data from GEO.\n",
    "### I focus on blood-related other aging datasets first, because I think that blood exhibits clear aging signatures."
   ]
  },
  {
   "cell_type": "markdown",
   "metadata": {},
   "source": [
    "1. GSE162950: (elefanty) iPSC to HSC diff --> can be a very \"young\" blood age\n",
    "2. GSE162950: single-cell transcriptome map of human hematopoietic tissues from 1st trimester to birth\n",
    "3. GSE192740: CITE-seq data , Nuclei RNA-seq data and single cell RNA-seq data on CD45+ and CD45- cells isolated from the livers of mice fed a standard diet (SD) or western diet (WD; fat, cholesterol and sugar), from healthy and steatotic human livers, from hamster liver, pig liver, chicken liver, monkey liver and zebrafish liver\n",
    "4. (already in cellxgene) AIDA: 1,265,624 circulating immune cells from 619 donors, spanning 7 population groups across 5 Asian countries, and 6 controls\n",
    "6. (already in cellxgene) hao 2021: integration of cite-seq data with scrna-seq, 211,000 human peripheral blood mononuclear cells (PBMCs) with panels extending to 228 antibodies\n",
    "7. joung 2023: barcoded ORF library of 3,548 TF splice isoforms and developed a screening\n",
    "platform to build a TF Atlas of >1 million cells (looks kinda bad)\n",
    "8. liu 2022 (disco, heca): has blood and bone marrow available\n",
    "9. ! lu 2022 weng: Heterogeneity and transcriptome changes of human CD8+ T cells across nine decades of life\n",
    "10. mann 2018: Heterogeneous Responses of Hematopoietic Stem Cells to Inflammatory Stimuli Are Altered with Age\n",
    "11. Sara Montserrat-Vazquez 2022: scRNA-seq of Lineage−(Cd11b−, Ter119−, Cd8−, Cd5−, B220−, Gr1−), C-kit+, Sca1+ BM cells (LSKs), which include all hematopoietic stem and progenitor cells in the BM (Supplementary Fig. 6a). A total of 15,856 LSK cells were obtained after the quality control and filtering (Supplementary Dataset 1), which divided into 13 clusters by using Seurat’s functions40 (Fig. 5a).\n",
    "12. ! oetjen 2018: human bone marrow cells using both single-cell RNA sequencing and multiparameter flow cytometry from 20 healthy adult human donors across a broad age range\n",
    "13. (already in cellxgene) perez 2022: We profiled more than 1.2 million peripheral blood mononuclear cells (162 cases, 99 controls) with multiplexed single-cell RNA sequencing (mux-seq)."
   ]
  },
  {
   "cell_type": "code",
   "execution_count": null,
   "metadata": {},
   "outputs": [
    {
     "ename": "SyntaxError",
     "evalue": "invalid syntax (3704634607.py, line 1)",
     "output_type": "error",
     "traceback": [
      "\u001b[0;36m  Cell \u001b[0;32mIn[14], line 1\u001b[0;36m\u001b[0m\n",
      "\u001b[0;31m    15. terekhova 2023: Single-cell atlas of healthy human blood unveils age-related loss of NKG2C+GZMB-CD8+ memory T cells and accumulation of type 2 memory T cells\u001b[0m\n",
      "\u001b[0m        ^\u001b[0m\n",
      "\u001b[0;31mSyntaxError\u001b[0m\u001b[0;31m:\u001b[0m invalid syntax\n"
     ]
    }
   ],
   "source": [
    "15. terekhova 2023: Single-cell atlas of healthy human blood unveils age-related loss of NKG2C+GZMB-CD8+ memory T cells and accumulation of type 2 memory T cells\n",
    "5. ainciburu 2023: enriched population of human hspcs obtained from young and elderly healthy individuals.\n",
    "14. ( no age available )cheng, zhemin 2021: pan-cancer analysis of single myeloid cells from 210 patients across 15 human cancer types"
   ]
  },
  {
   "cell_type": "markdown",
   "metadata": {},
   "source": [
    "### 2. Download"
   ]
  },
  {
   "cell_type": "code",
   "execution_count": 2,
   "metadata": {},
   "outputs": [],
   "source": [
    "import seafront.datasets"
   ]
  },
  {
   "cell_type": "markdown",
   "metadata": {},
   "source": [
    "1. ainciburu 2023"
   ]
  },
  {
   "cell_type": "code",
   "execution_count": 17,
   "metadata": {},
   "outputs": [
    {
     "name": "stdout",
     "output_type": "stream",
     "text": [
      "Loaded metadata: 116955 rows\n",
      "Reading GSM5460406_young1_filtered_feature_bc_matrix.h5...\n",
      "Reading GSM5460407_young2_filtered_feature_bc_matrix.h5...\n",
      "Reading GSM5460408_young3_filtered_feature_bc_matrix.h5...\n",
      "Reading GSM5460409_young4_filtered_feature_bc_matrix.h5...\n",
      "Reading GSM5460410_young5_filtered_feature_bc_matrix.h5...\n",
      "Reading GSM5460411_elderly1_filtered_feature_bc_matrix.h5...\n",
      "Reading GSM5460412_elderly2_filtered_feature_bc_matrix.h5...\n",
      "Reading GSM5460413_elderly3_filtered_feature_bc_matrix.h5...\n",
      "Reading GSM6946065_mds1_filtered_feature_bc_matrix.h5...\n",
      "Reading GSM6946066_mds2_filtered_feature_bc_matrix.h5...\n",
      "Reading GSM6946067_mds3_filtered_feature_bc_matrix.h5...\n",
      "Reading GSM6946068_mds4_filtered_feature_bc_matrix.h5...\n",
      "Combined AnnData shape: (131709, 22164)\n",
      "Saved to raw/GSE180298/GSE180298_combined.h5ad\n"
     ]
    }
   ],
   "source": [
    "metadata, adata_combined = seafront.datasets.download(\"ainciburu2023\")"
   ]
  },
  {
   "cell_type": "code",
   "execution_count": 19,
   "metadata": {},
   "outputs": [
    {
     "ename": "NameError",
     "evalue": "name 'data_combined' is not defined",
     "output_type": "error",
     "traceback": [
      "\u001b[0;31m---------------------------------------------------------------------------\u001b[0m",
      "\u001b[0;31mNameError\u001b[0m                                 Traceback (most recent call last)",
      "Cell \u001b[0;32mIn[19], line 1\u001b[0m\n\u001b[0;32m----> 1\u001b[0m \u001b[43mdata_combined\u001b[49m \n",
      "\u001b[0;31mNameError\u001b[0m: name 'data_combined' is not defined"
     ]
    }
   ],
   "source": [
    "data_combined "
   ]
  },
  {
   "cell_type": "code",
   "execution_count": 16,
   "metadata": {},
   "outputs": [
    {
     "data": {
      "text/html": [
       "<div>\n",
       "<style scoped>\n",
       "    .dataframe tbody tr th:only-of-type {\n",
       "        vertical-align: middle;\n",
       "    }\n",
       "\n",
       "    .dataframe tbody tr th {\n",
       "        vertical-align: top;\n",
       "    }\n",
       "\n",
       "    .dataframe thead th {\n",
       "        text-align: right;\n",
       "    }\n",
       "</style>\n",
       "<table border=\"1\" class=\"dataframe\">\n",
       "  <thead>\n",
       "    <tr style=\"text-align: right;\">\n",
       "      <th></th>\n",
       "      <th>sample_id</th>\n",
       "      <th>batch</th>\n",
       "      <th>patient_id</th>\n",
       "      <th>patient_age</th>\n",
       "    </tr>\n",
       "  </thead>\n",
       "  <tbody>\n",
       "    <tr>\n",
       "      <th>AAACCTGAGAACAACT-1_GSM5460406_young1</th>\n",
       "      <td>GSM5460406_young1</td>\n",
       "      <td>0</td>\n",
       "      <td>young1</td>\n",
       "      <td>20</td>\n",
       "    </tr>\n",
       "    <tr>\n",
       "      <th>AAACCTGTCGGAAATA-1_GSM5460406_young1</th>\n",
       "      <td>GSM5460406_young1</td>\n",
       "      <td>0</td>\n",
       "      <td>young1</td>\n",
       "      <td>20</td>\n",
       "    </tr>\n",
       "    <tr>\n",
       "      <th>AAACGGGAGAGCTGCA-1_GSM5460406_young1</th>\n",
       "      <td>GSM5460406_young1</td>\n",
       "      <td>0</td>\n",
       "      <td>young1</td>\n",
       "      <td>20</td>\n",
       "    </tr>\n",
       "    <tr>\n",
       "      <th>AAACGGGAGATGCGAC-1_GSM5460406_young1</th>\n",
       "      <td>GSM5460406_young1</td>\n",
       "      <td>0</td>\n",
       "      <td>young1</td>\n",
       "      <td>20</td>\n",
       "    </tr>\n",
       "    <tr>\n",
       "      <th>AAACGGGAGGACTGGT-1_GSM5460406_young1</th>\n",
       "      <td>GSM5460406_young1</td>\n",
       "      <td>0</td>\n",
       "      <td>young1</td>\n",
       "      <td>20</td>\n",
       "    </tr>\n",
       "    <tr>\n",
       "      <th>...</th>\n",
       "      <td>...</td>\n",
       "      <td>...</td>\n",
       "      <td>...</td>\n",
       "      <td>...</td>\n",
       "    </tr>\n",
       "    <tr>\n",
       "      <th>TTTGTTGGTCTCCTGT-1_GSM6946068_mds4</th>\n",
       "      <td>GSM6946068_mds4</td>\n",
       "      <td>11</td>\n",
       "      <td>mds4</td>\n",
       "      <td>83</td>\n",
       "    </tr>\n",
       "    <tr>\n",
       "      <th>TTTGTTGGTCTGTCAA-1_GSM6946068_mds4</th>\n",
       "      <td>GSM6946068_mds4</td>\n",
       "      <td>11</td>\n",
       "      <td>mds4</td>\n",
       "      <td>83</td>\n",
       "    </tr>\n",
       "    <tr>\n",
       "      <th>TTTGTTGGTTTGAAAG-1_GSM6946068_mds4</th>\n",
       "      <td>GSM6946068_mds4</td>\n",
       "      <td>11</td>\n",
       "      <td>mds4</td>\n",
       "      <td>83</td>\n",
       "    </tr>\n",
       "    <tr>\n",
       "      <th>TTTGTTGTCGCAGAGA-1_GSM6946068_mds4</th>\n",
       "      <td>GSM6946068_mds4</td>\n",
       "      <td>11</td>\n",
       "      <td>mds4</td>\n",
       "      <td>83</td>\n",
       "    </tr>\n",
       "    <tr>\n",
       "      <th>TTTGTTGTCTATACGG-1_GSM6946068_mds4</th>\n",
       "      <td>GSM6946068_mds4</td>\n",
       "      <td>11</td>\n",
       "      <td>mds4</td>\n",
       "      <td>83</td>\n",
       "    </tr>\n",
       "  </tbody>\n",
       "</table>\n",
       "<p>131709 rows × 4 columns</p>\n",
       "</div>"
      ],
      "text/plain": [
       "                                              sample_id batch patient_id  \\\n",
       "AAACCTGAGAACAACT-1_GSM5460406_young1  GSM5460406_young1     0     young1   \n",
       "AAACCTGTCGGAAATA-1_GSM5460406_young1  GSM5460406_young1     0     young1   \n",
       "AAACGGGAGAGCTGCA-1_GSM5460406_young1  GSM5460406_young1     0     young1   \n",
       "AAACGGGAGATGCGAC-1_GSM5460406_young1  GSM5460406_young1     0     young1   \n",
       "AAACGGGAGGACTGGT-1_GSM5460406_young1  GSM5460406_young1     0     young1   \n",
       "...                                                 ...   ...        ...   \n",
       "TTTGTTGGTCTCCTGT-1_GSM6946068_mds4      GSM6946068_mds4    11       mds4   \n",
       "TTTGTTGGTCTGTCAA-1_GSM6946068_mds4      GSM6946068_mds4    11       mds4   \n",
       "TTTGTTGGTTTGAAAG-1_GSM6946068_mds4      GSM6946068_mds4    11       mds4   \n",
       "TTTGTTGTCGCAGAGA-1_GSM6946068_mds4      GSM6946068_mds4    11       mds4   \n",
       "TTTGTTGTCTATACGG-1_GSM6946068_mds4      GSM6946068_mds4    11       mds4   \n",
       "\n",
       "                                      patient_age  \n",
       "AAACCTGAGAACAACT-1_GSM5460406_young1           20  \n",
       "AAACCTGTCGGAAATA-1_GSM5460406_young1           20  \n",
       "AAACGGGAGAGCTGCA-1_GSM5460406_young1           20  \n",
       "AAACGGGAGATGCGAC-1_GSM5460406_young1           20  \n",
       "AAACGGGAGGACTGGT-1_GSM5460406_young1           20  \n",
       "...                                           ...  \n",
       "TTTGTTGGTCTCCTGT-1_GSM6946068_mds4             83  \n",
       "TTTGTTGGTCTGTCAA-1_GSM6946068_mds4             83  \n",
       "TTTGTTGGTTTGAAAG-1_GSM6946068_mds4             83  \n",
       "TTTGTTGTCGCAGAGA-1_GSM6946068_mds4             83  \n",
       "TTTGTTGTCTATACGG-1_GSM6946068_mds4             83  \n",
       "\n",
       "[131709 rows x 4 columns]"
      ]
     },
     "execution_count": 16,
     "metadata": {},
     "output_type": "execute_result"
    }
   ],
   "source": [
    "adata_combined.obs"
   ]
  },
  {
   "cell_type": "code",
   "execution_count": 11,
   "metadata": {},
   "outputs": [
    {
     "data": {
      "text/html": [
       "<div>\n",
       "<style scoped>\n",
       "    .dataframe tbody tr th:only-of-type {\n",
       "        vertical-align: middle;\n",
       "    }\n",
       "\n",
       "    .dataframe tbody tr th {\n",
       "        vertical-align: top;\n",
       "    }\n",
       "\n",
       "    .dataframe thead th {\n",
       "        text-align: right;\n",
       "    }\n",
       "</style>\n",
       "<table border=\"1\" class=\"dataframe\">\n",
       "  <thead>\n",
       "    <tr style=\"text-align: right;\">\n",
       "      <th></th>\n",
       "      <th>sample_id</th>\n",
       "      <th>batch</th>\n",
       "    </tr>\n",
       "  </thead>\n",
       "  <tbody>\n",
       "    <tr>\n",
       "      <th>AAACCTGAGAACAACT-1_GSM5460406_young1</th>\n",
       "      <td>GSM5460406_young1</td>\n",
       "      <td>0</td>\n",
       "    </tr>\n",
       "    <tr>\n",
       "      <th>AAACCTGTCGGAAATA-1_GSM5460406_young1</th>\n",
       "      <td>GSM5460406_young1</td>\n",
       "      <td>0</td>\n",
       "    </tr>\n",
       "    <tr>\n",
       "      <th>AAACGGGAGAGCTGCA-1_GSM5460406_young1</th>\n",
       "      <td>GSM5460406_young1</td>\n",
       "      <td>0</td>\n",
       "    </tr>\n",
       "    <tr>\n",
       "      <th>AAACGGGAGATGCGAC-1_GSM5460406_young1</th>\n",
       "      <td>GSM5460406_young1</td>\n",
       "      <td>0</td>\n",
       "    </tr>\n",
       "    <tr>\n",
       "      <th>AAACGGGAGGACTGGT-1_GSM5460406_young1</th>\n",
       "      <td>GSM5460406_young1</td>\n",
       "      <td>0</td>\n",
       "    </tr>\n",
       "    <tr>\n",
       "      <th>...</th>\n",
       "      <td>...</td>\n",
       "      <td>...</td>\n",
       "    </tr>\n",
       "    <tr>\n",
       "      <th>TTTGTTGGTCTCCTGT-1_GSM6946068_mds4</th>\n",
       "      <td>GSM6946068_mds4</td>\n",
       "      <td>11</td>\n",
       "    </tr>\n",
       "    <tr>\n",
       "      <th>TTTGTTGGTCTGTCAA-1_GSM6946068_mds4</th>\n",
       "      <td>GSM6946068_mds4</td>\n",
       "      <td>11</td>\n",
       "    </tr>\n",
       "    <tr>\n",
       "      <th>TTTGTTGGTTTGAAAG-1_GSM6946068_mds4</th>\n",
       "      <td>GSM6946068_mds4</td>\n",
       "      <td>11</td>\n",
       "    </tr>\n",
       "    <tr>\n",
       "      <th>TTTGTTGTCGCAGAGA-1_GSM6946068_mds4</th>\n",
       "      <td>GSM6946068_mds4</td>\n",
       "      <td>11</td>\n",
       "    </tr>\n",
       "    <tr>\n",
       "      <th>TTTGTTGTCTATACGG-1_GSM6946068_mds4</th>\n",
       "      <td>GSM6946068_mds4</td>\n",
       "      <td>11</td>\n",
       "    </tr>\n",
       "  </tbody>\n",
       "</table>\n",
       "<p>131709 rows × 2 columns</p>\n",
       "</div>"
      ],
      "text/plain": [
       "                                              sample_id batch\n",
       "AAACCTGAGAACAACT-1_GSM5460406_young1  GSM5460406_young1     0\n",
       "AAACCTGTCGGAAATA-1_GSM5460406_young1  GSM5460406_young1     0\n",
       "AAACGGGAGAGCTGCA-1_GSM5460406_young1  GSM5460406_young1     0\n",
       "AAACGGGAGATGCGAC-1_GSM5460406_young1  GSM5460406_young1     0\n",
       "AAACGGGAGGACTGGT-1_GSM5460406_young1  GSM5460406_young1     0\n",
       "...                                                 ...   ...\n",
       "TTTGTTGGTCTCCTGT-1_GSM6946068_mds4      GSM6946068_mds4    11\n",
       "TTTGTTGGTCTGTCAA-1_GSM6946068_mds4      GSM6946068_mds4    11\n",
       "TTTGTTGGTTTGAAAG-1_GSM6946068_mds4      GSM6946068_mds4    11\n",
       "TTTGTTGTCGCAGAGA-1_GSM6946068_mds4      GSM6946068_mds4    11\n",
       "TTTGTTGTCTATACGG-1_GSM6946068_mds4      GSM6946068_mds4    11\n",
       "\n",
       "[131709 rows x 2 columns]"
      ]
     },
     "execution_count": 11,
     "metadata": {},
     "output_type": "execute_result"
    }
   ],
   "source": [
    "adata_combined.obs"
   ]
  },
  {
   "cell_type": "code",
   "execution_count": null,
   "metadata": {},
   "outputs": [],
   "source": [
    "MDS1\t71\n",
    "MDS2\t54\n",
    "MDS3\t83\n",
    "MDS4\t83\n",
    "Young1\t20\n",
    "Young2\t23\n",
    "Young3\t20\n",
    "Young4\t19\n",
    "Young5\t23\n",
    "Elderly1\t61\n",
    "Elderly2\t74\n",
    "Elderly3\t72"
   ]
  },
  {
   "cell_type": "code",
   "execution_count": null,
   "metadata": {},
   "outputs": [],
   "source": [
    "import os\n",
    "import requests\n",
    "\n",
    "os.makedirs(\"raw/GSE180298\", exist_ok=True)\n",
    "\n",
    "base_url = \"https://ftp.ncbi.nlm.nih.gov/geo/series/GSE180nnn/GSE180298/suppl/\"\n",
    "filenames = [\n",
    "    \"GSE180298_RAW.tar\",\n",
    "    \"GSE180298_elderly_metadata.txt.gz\",\n",
    "    \"GSE180298_mds_metadata.txt.gz\",\n",
    "    \"GSE180298_young_metadata.txt.gz\",\n",
    "]\n",
    "\n",
    "# Download files\n",
    "for fname in filenames:\n",
    "    url = base_url + fname\n",
    "    out_path = os.path.join(\"raw/GSE180298\", fname)\n",
    "    print(f\"Downloading {fname}...\")\n",
    "    with requests.get(url, stream=True) as r:\n",
    "        r.raise_for_status()\n",
    "        with open(out_path, \"wb\") as f:\n",
    "            for chunk in r.iter_content(chunk_size=8192):\n",
    "                f.write(chunk)\n",
    "    print(f\"Saved to {out_path}\")\n"
   ]
  },
  {
   "cell_type": "code",
   "execution_count": null,
   "metadata": {},
   "outputs": [],
   "source": [
    "import tarfile\n",
    "import gzip\n",
    "import shutil\n",
    "\n",
    "tar_file_path = \"/data2/florian/hackathon/raw/GSE180298/GSE180298_RAW.tar\"\n",
    "with tarfile.open(tar_file_path, \"r\") as tar:\n",
    "    tar.extractall(path=\"raw/GSE180298\")\n",
    "\n",
    "# Untar the other gz files\n",
    "gz_filenames = [\n",
    "    \"GSE180298_elderly_metadata.txt.gz\",\n",
    "    \"GSE180298_mds_metadata.txt.gz\",\n",
    "    \"GSE180298_young_metadata.txt.gz\",\n",
    "]\n",
    "\n",
    "for gz_filename in gz_filenames:\n",
    "    gz_file_path = os.path.join(\"raw/GSE180298\", gz_filename)\n",
    "    with gzip.open(gz_file_path, 'rb') as f_in:\n",
    "        with open(gz_file_path[:-3], 'wb') as f_out:\n",
    "            shutil.copyfileobj(f_in, f_out)"
   ]
  },
  {
   "cell_type": "code",
   "execution_count": null,
   "metadata": {},
   "outputs": [],
   "source": [
    "import os\n",
    "import pandas as pd\n",
    "import scanpy as sc\n",
    "import anndata as ad\n",
    "\n",
    "data_dir = \"raw/GSE180298\"\n",
    "output_path = \"raw/GSE180298_combined.h5ad\"\n",
    "\n",
    "# 1. Concatenate all metadata files\n",
    "metadata_files = sorted([\n",
    "    f for f in os.listdir(data_dir)\n",
    "    if f.endswith(\"_metadata.txt\")\n",
    "])\n",
    "\n",
    "metadata_list = []\n",
    "\n",
    "for fname in metadata_files:\n",
    "    full_path = os.path.join(data_dir, fname)\n",
    "    df = pd.read_csv(full_path, sep=\"\\t\", index_col=0)\n",
    "    metadata_list.append(df)\n",
    "\n",
    "metadata = pd.concat(metadata_list, axis=0)\n",
    "print(f\"Loaded metadata: {metadata.shape[0]} rows\")\n",
    "\n",
    "# 2. Concatenate all .h5 matrices\n",
    "h5_files = sorted([\n",
    "    f for f in os.listdir(data_dir)\n",
    "    if f.endswith(\".h5\")\n",
    "])\n",
    "\n",
    "adata_list = []\n",
    "\n",
    "for h5_fname in h5_files:\n",
    "    full_path = os.path.join(data_dir, h5_fname)\n",
    "    sample_id = h5_fname.replace(\"_filtered_feature_bc_matrix.h5\", \"\")\n",
    "    print(f\"Reading {h5_fname}...\")\n",
    "\n",
    "    adata = sc.read_10x_h5(full_path)\n",
    "\n",
    "    # Ensure unique gene names immediately after loading\n",
    "    adata.var_names_make_unique()\n",
    "    assert adata.var_names.is_unique, f\"var_names still not unique in {h5_fname}\"\n",
    "\n",
    "    # Make cell barcodes unique using GSM ID\n",
    "    adata.obs_names = [f\"{bc}_{sample_id}\" for bc in adata.obs_names]\n",
    "    adata.obs[\"sample_id\"] = sample_id\n",
    "    adata_list.append(adata)\n",
    "\n",
    "# Concatenate all AnnData objects\n",
    "adata_combined = ad.concat(adata_list, axis=0, label=\"batch\", index_unique=None)\n",
    "print(f\"Combined AnnData shape: {adata_combined.shape}\")\n",
    "\n",
    "# 3. Save the final merged object\n",
    "adata_combined.write(output_path)\n",
    "print(f\"Saved to {output_path}\")\n"
   ]
  },
  {
   "cell_type": "markdown",
   "metadata": {},
   "source": [
    "### 3. QC/filtration"
   ]
  },
  {
   "cell_type": "code",
   "execution_count": null,
   "metadata": {},
   "outputs": [],
   "source": [
    "# adata = ad.read_h5ad(adata_path)"
   ]
  },
  {
   "cell_type": "code",
   "execution_count": null,
   "metadata": {},
   "outputs": [],
   "source": [
    "adata = adata_blood.copy()"
   ]
  },
  {
   "cell_type": "code",
   "execution_count": null,
   "metadata": {},
   "outputs": [],
   "source": [
    "import scanpy as sc\n",
    "\n",
    "sc.pp.calculate_qc_metrics(adata, inplace=True)\n",
    "\n",
    "if adata.raw is None:\n",
    "    adata.raw = adata.copy()\n",
    "    sc.pp.normalize_total(adata, target_sum=1e4)\n",
    "    sc.pp.log1p(adata)\n",
    "\n",
    "\n",
    "sc.pp.highly_variable_genes(adata, n_top_genes=2000, subset=True)\n",
    "\n",
    "sc.pp.regress_out(adata, keys=['total_counts'])\n",
    "\n",
    "sc.pp.scale(adata)\n",
    "\n",
    "sc.tl.pca(adata, svd_solver='arpack')\n",
    "sc.pp.neighbors(adata, n_neighbors=15, n_pcs=50)\n",
    "sc.tl.tsne(adata)\n",
    "\n",
    "sc.pl.tsne(adata, color='cell_type')\n"
   ]
  },
  {
   "cell_type": "code",
   "execution_count": null,
   "metadata": {},
   "outputs": [],
   "source": [
    "sc.pl.tsne(adata, color='cell_type')"
   ]
  },
  {
   "cell_type": "code",
   "execution_count": null,
   "metadata": {},
   "outputs": [],
   "source": [
    "sc.pl.violin(\n",
    "    adata,\n",
    "    keys=\"total_counts\",\n",
    "    groupby=\"assay\",\n",
    "    rotation=90,\n",
    "    stripplot=False,\n",
    "    show=False,\n",
    "    save=\"_umis_by_assay.png\"\n",
    ")\n"
   ]
  },
  {
   "cell_type": "code",
   "execution_count": null,
   "metadata": {},
   "outputs": [],
   "source": [
    "import matplotlib\n",
    "matplotlib.use(\"Agg\")  # use non-interactive backend\n",
    "import scanpy as sc\n",
    "import matplotlib.pyplot as plt\n",
    "\n",
    "sc.pl.tsne(adata, color='cell_type', show=False)\n",
    "plt.savefig(\"tsne_plot.png\")  # save manually\n"
   ]
  },
  {
   "cell_type": "markdown",
   "metadata": {},
   "source": [
    "### 4. Integrate datasets"
   ]
  },
  {
   "cell_type": "markdown",
   "metadata": {},
   "source": [
    "use this method? https://onlinelibrary.wiley.com/doi/10.15302/J-QB-022-0304  \n",
    "or perhaps: https://pmc.ncbi.nlm.nih.gov/articles/PMC12013815/"
   ]
  },
  {
   "cell_type": "markdown",
   "metadata": {},
   "source": [
    "ontology: simply use chatgpt to create some mappings"
   ]
  },
  {
   "cell_type": "code",
   "execution_count": null,
   "metadata": {},
   "outputs": [],
   "source": [
    "from pathlib import Path\n",
    "\n",
    "import pandas as pd\n",
    "import scanpy as sc\n",
    "import sctools as sct\n",
    "from tqdm import tqdm\n",
    "\n",
    "cellranger_ensembl2gene = sct.pp.get_cellranger_ensembl_to_gene()\n",
    "cellranger_gene2ensembl = {g:e for e,g in cellranger_ensembl2gene.items()}\n",
    "\n",
    "genes = pd.read_csv(Path(__file__).parent.parent / \"data\" / \"10x_fixed_vocab.txt\", header=None)[0].to_list()\n",
    "\n",
    "adatas = [\n",
    "    ('gs://retro-postprocessed/luo2022/luo2022_rmt.h5ad', 'cellbender'),\n",
    "    ('gs://retro-postprocessed/hao2021/hao2021_rmt.h5ad', None),\n",
    "    ('gs://retro-postprocessed/imyoo2023/imyoo2023_rmt.h5ad', 'cellbender'),\n",
    "    ('gs://retro-postprocessed/tabula_sapiens/tabula_sapiens_blood_rmt.h5ad', 'decontX'),\n",
    "    ('gs://retro-postprocessed/ren2021/ren2021_rmt.h5ad', None),\n",
    "    ('gs://retro-postprocessed/aida2023/aida2023_rmt.h5ad', None),\n",
    "    ('gs://retro-postprocessed/terekhova2023/terekhova2023_rmt.h5ad', None),\n",
    "    # ('gs://retro-postprocessed/perez2022/perez2022_rmt.h5ad', 'cellbender'),\n",
    "    # ('gs://retro-postprocessed/yazar2022/yazar2022_rmt.h5ad', 'cellbender'),\n",
    "    # ('gs://retro-postprocessed/soskic2021/soskic2021_rmt.h5ad', None),\n",
    "    # ('gs://retro-postprocessed/stephenson2021/stephenson2021_rmt.h5ad', None),\n",
    "]\n",
    "\n",
    "adata = None\n",
    "subset_rmt = False\n",
    "min_genes = 500\n",
    "max_genes = 5000\n",
    "\n",
    "for remote_path, layer in tqdm(adatas):\n",
    "    adata_ = sct.io.read_adata(remote_path, overwrite=True)\n",
    "    if layer is not None:\n",
    "        adata_.X = adata_.layers[layer]\n",
    "    if subset_rmt:\n",
    "        print(\"Subsetting rmt\")\n",
    "        sct.tools.random_matrix.varm_subset(adata_)\n",
    "        del adata_.varm\n",
    "    del adata_.layers\n",
    "    print(\"Concat\")\n",
    "    if adata is None:\n",
    "        adata = adata_\n",
    "    else:\n",
    "        adata = sc.concat([adata, adata_], join='outer', index_unique='-')\n",
    "\n",
    "adata.var.index.name = 'ensembl_gene_id'\n",
    "adata.var['gene_symbol'] = adata.var.index.map(cellranger_ensembl2gene)\n",
    "\n",
    "subset_min, _ = sc.pp.filter_cells(\n",
    "    adata[:, list(set(adata.var_names.to_list()) & set(genes))], \n",
    "    min_genes=min_genes,\n",
    "    inplace=False\n",
    ")\n",
    "subset_max, _ = sc.pp.filter_cells(\n",
    "    adata[:, list(set(adata.var_names.to_list()) & set(genes))], \n",
    "    max_genes=max_genes,\n",
    "    inplace=False\n",
    ")\n",
    "\n",
    "adata[subset_min & subset_max].write_h5ad('/data/rico/pbmc_concat_new.h5ad')"
   ]
  }
 ],
 "metadata": {
  "kernelspec": {
   "display_name": ".venv",
   "language": "python",
   "name": "python3"
  },
  "language_info": {
   "codemirror_mode": {
    "name": "ipython",
    "version": 3
   },
   "file_extension": ".py",
   "mimetype": "text/x-python",
   "name": "python",
   "nbconvert_exporter": "python",
   "pygments_lexer": "ipython3",
   "version": "3.10.12"
  }
 },
 "nbformat": 4,
 "nbformat_minor": 2
}
